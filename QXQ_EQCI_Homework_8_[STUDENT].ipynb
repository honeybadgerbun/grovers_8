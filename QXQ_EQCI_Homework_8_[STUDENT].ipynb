{
  "cells": [
    {
      "cell_type": "markdown",
      "source": [
        "# **Homework 8: Quantum Teleportation and Deutsch's Algorithm and**\n",
        "---\n",
        "\n",
        "### **Description**\n",
        "In this notebook, you will continue practicing your ability to implement new quantum protocols and algorithms by working through two famous examples: Quantum Teleportation and Deutsch's Algorithm. \n",
        "\n",
        "<br>\n",
        "\n",
        "### **Lab Structure**\n",
        "\n",
        "**Part 1**: [Quantum Teleportation](#p1)\n",
        "\n",
        "**Part 2**: [Deutsch's Algorithm](#p2)\n",
        "\n",
        "**Part 3**: [Practice with Kets](#p3)\n",
        "\n",
        "<br>\n",
        "\n",
        "### **Goals** \n",
        "By the end of this lab, you will:\n",
        "- Understand two fundamental quantum algorithm\n",
        "- Refresh your knowledge on gates\n",
        "- Explore quantum parallelism\n",
        "- Learn about quantum oracle and black-box problems\n",
        "- Recognize quantum computational advantage\n",
        "\n",
        "\n",
        "<br>\n",
        "\n",
        "### **Resources**\n",
        "\n",
        "- [Notes on Coding Quantum Teleportation](https://quantum-computing.ibm.com/services/programs/docs/runtime/manage/systems/dynamic-circuits/Teleportation)\n",
        "- [Notes on Deutsch's algorithm](https://people.vcu.edu/~sgharibian/courses/CMSC491/notes/Lecture%206%20-%20Deutsch's%20algorithm.pdf)\n",
        "- [Notes on Coding Deutsch's algorithm](https://learn.qiskit.org/course/ch-algorithms/deutsch-jozsa-algorithm)\n",
        "\n",
        "<br>\n",
        "\n",
        "**Before starting, run the code below to import all necessary functions and libraries.**"
      ],
      "metadata": {
        "id": "alOMuHK-mYVi"
      },
      "id": "alOMuHK-mYVi"
    },
    {
      "cell_type": "markdown",
      "metadata": {
        "id": "B50BvrFiXihx"
      },
      "source": [
        "---\n",
        "## **Part #1: Quantum Teleportation**\n",
        "---\n",
        "\n",
        "### **Description**:\n",
        "We will now implement the Quantum Teleportation protocol using Qiskit. The goals of this are three-fold:\n",
        "1. It is one of the most fundamental Quantum Protocols and good for anyone in the field to be familiar with.\n",
        "\n",
        "2. It will be valuable when discussing Quantum Networking in a few weeks.\n",
        "\n",
        "3. This is a good chance to refresh your knowledge of coding quantum circuits in Qiskit.\n",
        "\n",
        "### **Lab Structure**\n",
        "**Step 1**: Implementing Quantum Teleportation\n",
        "\n",
        "**Step 2**: Simulating Quantum Teleportation\n",
        "\n",
        "**Step 3**: Quantum Teleportation in Full\n",
        "\n",
        "\n",
        "---\n"
      ],
      "id": "B50BvrFiXihx"
    },
    {
      "cell_type": "markdown",
      "source": [
        "---\n",
        "### **Step #1: Implementing Quantum Teleportation** \n",
        "---"
      ],
      "metadata": {
        "id": "kZIelYk7i1sQ"
      },
      "id": "kZIelYk7i1sQ"
    },
    {
      "cell_type": "markdown",
      "source": [
        "####**Problem #1: Alice and Bob share a Bell pair and go their separate ways.**\n",
        "\n",
        "Let's create a circuit as follows:\n",
        "* It has one qubit to be teleported, one for Alice, and one for Bob.\n",
        "* It has one classical bit for each qubit measurement.\n",
        "* Creates a Bell state with Alice's and Bob's qubits.\n",
        "\n",
        "<br>\n",
        "\n",
        "**NOTE**: The `barrier()` command added below just adds a line to the drawing at that point in the circuit. This will be provided for each step to make the circuit easier to interpret."
      ],
      "metadata": {
        "id": "76Y8_6wobGs8"
      },
      "id": "76Y8_6wobGs8"
    },
    {
      "cell_type": "code",
      "source": [
        "# CREATE CIRCUIT HERE\n",
        "qc = QuantumCircuit(3, 3)\n",
        "qc.h (1)\n",
        "qc.cx(1, 2)\n",
        "qc.barrier()\n",
        "qc.draw()"
      ],
      "metadata": {
        "id": "nuCoMsi6bOby"
      },
      "execution_count": null,
      "outputs": [],
      "id": "nuCoMsi6bOby"
    },
    {
      "cell_type": "markdown",
      "source": [
        "#### **Problem #2. Alice prepares a special state to teleport to Bob.**\n",
        "\n",
        "Prepare the teleportation qubit in the $|1\\rangle$ state."
      ],
      "metadata": {
        "id": "y6WV3WIvbmEr"
      },
      "id": "y6WV3WIvbmEr"
    },
    {
      "cell_type": "code",
      "source": [
        "# PREPARE THE |1> STATE\n",
        "\n",
        "qc.barrier()\n",
        "qc.draw()"
      ],
      "metadata": {
        "id": "sPBc_JgDbug2"
      },
      "execution_count": null,
      "outputs": [],
      "id": "sPBc_JgDbug2"
    },
    {
      "cell_type": "markdown",
      "source": [
        "#### **Problem #3: Alice measures her half of the Bell pair and her special state in the “Bell basis”.**\n",
        "\n",
        "Add the following to the quantum circuit:\n",
        "* A CX gate applied to the teleportation and Alice's qubits.\n",
        "* An H gate applied to the teleportation qubit.\n",
        "* A measurement of the teleportation and Alice's qubits.\n",
        "\n",
        "<br>\n",
        "\n",
        "**NOTE**: We have added the parameter `cregbundle = False` to the `draw(...)` command so that we can see which classical bits are storing the measurement."
      ],
      "metadata": {
        "id": "8YxLeKr7cC0R"
      },
      "id": "8YxLeKr7cC0R"
    },
    {
      "cell_type": "code",
      "source": [
        "# ADD TO CIRCUIT HERE\n",
        "\n",
        "qc.barrier()\n",
        "qc.draw(cregbundle = False)"
      ],
      "metadata": {
        "id": "O9poDL0OcIja"
      },
      "execution_count": null,
      "outputs": [],
      "id": "O9poDL0OcIja"
    },
    {
      "cell_type": "markdown",
      "source": [
        "---\n",
        "\n",
        "#### **Alice sends Bob her measurement results over a classical channel.**\n",
        "\n",
        "---"
      ],
      "metadata": {
        "id": "kok5dSkYcj3K"
      },
      "id": "kok5dSkYcj3K"
    },
    {
      "cell_type": "markdown",
      "source": [
        "#### **Problem #4. Bob adjusts his half of the Bell pair based on Alice’s measurement results.**\n",
        "\n",
        "Add the following to the quantum circuit:\n",
        "* An X gate applied to Bob's qubit *if* the result of measuring Alice's qubit was 1.\n",
        "* A Z gate applied to Bob's qubit *if* the result of measuring the teleportation qubit was 1.\n",
        "* A measurement of Bob's qubit."
      ],
      "metadata": {
        "id": "eYmZ0Faccr18"
      },
      "id": "eYmZ0Faccr18"
    },
    {
      "cell_type": "code",
      "source": [
        "qc.x(2).c_if(qc.clbits[1], 1)\n",
        "qc.z(2).# COMPLETE THIS LINE\n",
        "\n",
        "# MEASURE BOB'S QUBIT\n",
        "\n",
        "qc.draw(cregbundle = False)"
      ],
      "metadata": {
        "id": "f2F_0Va9cvbt"
      },
      "execution_count": null,
      "outputs": [],
      "id": "f2F_0Va9cvbt"
    },
    {
      "cell_type": "markdown",
      "source": [
        "---\n",
        "### **Step #2: Simulating Quantum Teleportation**\n",
        "---\n",
        "\n",
        "We will do this in two parts:\n",
        "1. Simulate our circuit as usual and plot the histogram of results.\n",
        "2. Estimate only Bob's state, getting rid of Alice's states, from the measurement results. "
      ],
      "metadata": {
        "id": "tz5H4xrvdFq9"
      },
      "id": "tz5H4xrvdFq9"
    },
    {
      "cell_type": "markdown",
      "source": [
        "#### **Problem #1: Simulate our circuit as usual and plot the histogram of results.**"
      ],
      "metadata": {
        "id": "W3BBD7nBdKYT"
      },
      "id": "W3BBD7nBdKYT"
    },
    {
      "cell_type": "code",
      "execution_count": null,
      "metadata": {
        "id": "cP_BvT9OdPZz"
      },
      "outputs": [],
      "source": [
        "backend = Aer.get_backend('qasm_simulator')\n",
        "job = execute(qc, backend = backend, shots = 1024)\n",
        "\n",
        "result = job.result()\n",
        "counts = result.get_counts()\n",
        "\n",
        "plot_histogram(counts)"
      ],
      "id": "cP_BvT9OdPZz"
    },
    {
      "cell_type": "markdown",
      "source": [
        "#### **Problem #2: Estimate only Bob's state, getting rid of Alice's states, from the measurement results.**"
      ],
      "metadata": {
        "id": "VM9cZoemdTgi"
      },
      "id": "VM9cZoemdTgi"
    },
    {
      "cell_type": "code",
      "source": [
        "bob_state = [0, 0]\n",
        "for state in result.get_counts().keys():\n",
        "  bob_state[int(state[0])] += result.get_counts()[state]\n",
        "\n",
        "norm = (sum(c*2 for c in bob_state))**(1/2)\n",
        "bob_state = [c / norm for c in bob_state]\n",
        " \n",
        "statevector = Statevector(bob_state)\n",
        "\n",
        "statevector.draw(output = 'latex')"
      ],
      "metadata": {
        "id": "31tU18IxdYu4"
      },
      "execution_count": null,
      "outputs": [],
      "id": "31tU18IxdYu4"
    },
    {
      "cell_type": "code",
      "source": [
        "statevector.draw(output = 'bloch')"
      ],
      "metadata": {
        "id": "b87IX6GUddyZ"
      },
      "execution_count": null,
      "outputs": [],
      "id": "b87IX6GUddyZ"
    },
    {
      "cell_type": "markdown",
      "source": [
        "---\n",
        "### **Step #3: Quantum Teleportation in Full**\n",
        "---\n",
        "\n",
        "The full Quantum Teleportation protocol implementation and simulation is given in the 2 cells below. Complete the exercises based on these 2 cells.\n",
        "\n",
        "<br>\n",
        "\n",
        "\n",
        "**NOTE**: Step #2 has been modified to allow for more experimentation. Specifically, we have introduced the `prepare_state(...)` function that allows us to prepare any *valid* quantum state to teleport without having to add the gates ourselves."
      ],
      "metadata": {
        "id": "6XirmFM_e1xW"
      },
      "id": "6XirmFM_e1xW"
    },
    {
      "cell_type": "markdown",
      "source": [
        "#### **Create and Draw Teleportation Circuit.**"
      ],
      "metadata": {
        "id": "1Igoz6PVe54h"
      },
      "id": "1Igoz6PVe54h"
    },
    {
      "cell_type": "code",
      "source": [
        "#=========\n",
        "# STEP #1\n",
        "#=========\n",
        "\n",
        "\n",
        "\n",
        "#=========\n",
        "# STEP #2\n",
        "#=========\n",
        "amplitude_0 =\n",
        "qc.prepare_state(, )\n",
        "\n",
        "qc.barrier()\n",
        "\n",
        "\n",
        "#=========\n",
        "# STEP #3\n",
        "#=========\n",
        "\n",
        "\n",
        "qc.draw(cregbundle = False)\n",
        "\n",
        "\n",
        "#=============\n",
        "# STEPS #4 - 5\n",
        "#=============\n",
        "\n",
        "\n",
        "qc.draw(cregbundle = False)"
      ],
      "metadata": {
        "id": "6IQpnv1ce9Kz"
      },
      "execution_count": null,
      "outputs": [],
      "id": "6IQpnv1ce9Kz"
    },
    {
      "cell_type": "markdown",
      "source": [
        "#### **Simulate Teleportation and Reconstruct Bob's State.**"
      ],
      "metadata": {
        "id": "c8YsTZomfPfT"
      },
      "id": "c8YsTZomfPfT"
    },
    {
      "cell_type": "code",
      "source": [
        "# SIMULATE\n",
        "backend = Aer.get_backend('qasm_simulator')\n",
        "job = execute(qc, backend = backend, shots = 1024)\n",
        "\n",
        "result = job.result()\n",
        "counts = result.get_counts()\n",
        "\n",
        "\n",
        "# RECONSTRUCT Bob's state from the measurement results\n",
        "bob_state = [0, 0]\n",
        "for state in result.get_counts().keys():\n",
        "  bob_state[int(state[0])] += result.get_counts()[state]\n",
        "\n",
        "norm = (sum(c**2 for c in bob_state))**(1/2)\n",
        "bob_state = [c / norm for c in bob_state]\n",
        "\n",
        "statevector = Statevector(bob_state)\n",
        "\n",
        "statevector.draw(output = 'latex')"
      ],
      "metadata": {
        "id": "Vm-Go4i6fW6B"
      },
      "execution_count": null,
      "outputs": [],
      "id": "Vm-Go4i6fW6B"
    },
    {
      "cell_type": "code",
      "source": [
        "statevector.draw(output = 'bloch')"
      ],
      "metadata": {
        "id": "9Xo3RGenfjBp"
      },
      "execution_count": null,
      "outputs": [],
      "id": "9Xo3RGenfjBp"
    },
    {
      "cell_type": "markdown",
      "source": [
        "## **Part #2: Deutsch's Algorithm**\n",
        "---\n",
        "\n",
        "### **Description**\n",
        "The Deutsch algorithm is one of the simplest and first quantum algorithms, which has been known since 1985. Although the algorithm does not address a  significant problem, it demonstrates that, in specific scenarios, quantum computers possess superior computational capabilities compared to classical computers.\n",
        "\n",
        "<br>\n",
        "\n",
        "### **Lab Structure**\n",
        "**Step 1**: [The problem](#p1)\n",
        "\n",
        "**Step 2**: [The Classical Solution](#p2)\n",
        "\n",
        "**Step 3**: [The Quantum Solution](#p3)\n",
        "\n",
        "**Step 4**: [Additional Practice [OPTIONAL]: Deutsch-Josza**](#p4)\n",
        "\n",
        "<br>\n",
        "\n",
        "## An analogy\n",
        "\n",
        "Imagine you have two bags of candy, but one of the bags has only sour candy while the other has a mix of sweet and sour candy. However, the bags are identical, and you don't know which bag contains only sour candy.\n",
        "\n",
        "You can use Deutsch's algorithm to determine which bag contains only sour candy by asking only one yes-or-no question about the contents of the bags. For example, you could ask, \"If I were to draw a piece of candy from the first bag, would it be sour?\"\n",
        "\n",
        "Using Deutsch's algorithm, you can determine whether the function that represents the contents of the bags is constant (always returns \"yes\" or always returns \"no\") or balanced (returns \"yes\" for some inputs and \"no\" for other inputs). \n",
        "\n",
        "This will help you identify which bag contains only sour candy without having to draw multiple pieces of candy from the bags.\n",
        "\n",
        "<br>\n",
        "\n",
        "**Before starting, run the code below to import all necessary functions and libraries.**"
      ],
      "metadata": {
        "id": "-LwJ2UZgWB7b"
      },
      "id": "-LwJ2UZgWB7b"
    },
    {
      "cell_type": "code",
      "source": [
        "!pip install qiskit ipywidgets"
      ],
      "metadata": {
        "id": "wQ0r7S7mbtqp"
      },
      "id": "wQ0r7S7mbtqp",
      "execution_count": null,
      "outputs": []
    },
    {
      "cell_type": "code",
      "execution_count": null,
      "id": "b180a494",
      "metadata": {
        "id": "b180a494"
      },
      "outputs": [],
      "source": [
        "from qiskit import QuantumCircuit, QuantumRegister, ClassicalRegister, execute, Aer, IBMQ, BasicAer\n",
        "from qiskit.visualization import plot_bloch_multivector,plot_bloch_vector, plot_histogram\n",
        "from qiskit.quantum_info import Statevector\n",
        "import numpy as np \n",
        "import matplotlib\n",
        "\n",
        "backend = BasicAer.get_backend('qasm_simulator')\n",
        "shots = 1024\n"
      ]
    },
    {
      "cell_type": "markdown",
      "source": [
        "<a name=\"p1\"></a>\n",
        "\n",
        "---\n",
        "### **Step #1: The problem**\n",
        "---\n",
        "Description and instructions. These should be as brief as possible and just give a high level description of the section. This is ideally 1 - 2 full sentences and any other absolutely pertinent information.\n",
        "\n",
        "The problem it solves is as follows: \n",
        "\n",
        "Given a black box that implements an unknown *boolean* function $f(x)$, determine whether the function is constant (i.e., it returns the same output for all inputs) or balanced (i.e., it returns different outputs for half of the inputs and the same output for the other half). We have the following four possibilities of functions:\n",
        "\n",
        "| Function  \t| x=0 \t| x=1 \t| Constant or balanced?    |\n",
        "|:---------:\t|:---:\t|:---:\t|:---------------------:   |\n",
        "|   $f_0$   \t|  0  \t|  0  \t|        Constant    (0)   |\n",
        "|   $f_1$   \t|  0  \t|  1  \t|        Balanced    (1)   |\n",
        "|   $f_2$   \t|  1  \t|  0  \t|        Balanced    (1)   |\n",
        "|   $f_3$   \t|  1  \t|  1  \t|        Constant    (0)   |\n",
        "\n",
        "When $f(0) = f(1)$(in the cases of $f_0$ amd $f_3$), the function is \"constant\" and when $f(0) \\neq f(1)$ (in the cases of $f_1$ and $f_2$), the function is \"balanced\". Let's assign 0 to constant and 1 to balanced. \n",
        "\n",
        "Bonus: Does this remind you of a classical gate? (It's okay if it doesn't! We'll come back to this)\n",
        "\n",
        "Let's define a boolean black box function:"
      ],
      "metadata": {
        "id": "OoMOHQ8_8LtD"
      },
      "id": "OoMOHQ8_8LtD"
    },
    {
      "cell_type": "code",
      "execution_count": null,
      "id": "fc269fdd",
      "metadata": {
        "id": "fc269fdd"
      },
      "outputs": [],
      "source": [
        "# Define the black box function\n",
        "def f(x):\n",
        "    return x\n"
      ]
    },
    {
      "cell_type": "markdown",
      "id": "b2a36f76",
      "metadata": {
        "id": "b2a36f76"
      },
      "source": [
        "#### **Problem #1:**\n",
        "Is this constant or balanced?  (assuming that x can take the values 0 or 1)"
      ]
    },
    {
      "cell_type": "markdown",
      "id": "b403246b",
      "metadata": {
        "id": "b403246b"
      },
      "source": [
        "#### **Problem #2:** Give an example of a function that is constant."
      ]
    },
    {
      "cell_type": "markdown",
      "source": [
        "<a name=\"p2\"></a>\n",
        "\n",
        "---\n",
        "### **Step #2: The Classical Solution**\n",
        "---\n",
        "\n",
        "The classical solution to this problem requires us to query the function $f(x)$ twice: once with $x=0$ and $x=1$, and then check whether the outputs are the same or different. If they are the same, the function is constant; if they are different, the function is balanced. "
      ],
      "metadata": {
        "id": "UC6lCDPtz-QO"
      },
      "id": "UC6lCDPtz-QO"
    },
    {
      "cell_type": "markdown",
      "id": "feb58d9c",
      "metadata": {
        "id": "feb58d9c"
      },
      "source": [
        "#### **Problem #3:** Given the following function, check whether it is constant or balanced. "
      ]
    },
    {
      "cell_type": "code",
      "execution_count": null,
      "id": "95a367c8",
      "metadata": {
        "id": "95a367c8"
      },
      "outputs": [],
      "source": [
        "def f(x):\n",
        "    return x%2"
      ]
    },
    {
      "cell_type": "markdown",
      "source": [
        "You can complete the function provided below to determine whether a given function is constant or balanced. The initial framework of the function has already been set up for you."
      ],
      "metadata": {
        "id": "U_cqmsk1cf8b"
      },
      "id": "U_cqmsk1cf8b"
    },
    {
      "cell_type": "code",
      "source": [
        "# Your solution should correct the following code. \n",
        "def classical_solution(f):\n",
        "  if f(0) == 0:\n",
        "      if f(1) == 0:\n",
        "          print(\"Constant\")\n",
        "      ## Answer\n",
        "      else: \n",
        "          print(\"Balanced\")\n",
        "  else:\n",
        "      if f(0) == 0:\n",
        "          print(\"Balanced\")\n",
        "      else: \n",
        "          print(\"Constant\")\n",
        "      ## End of answer"
      ],
      "metadata": {
        "id": "aWN6qkge0hLb"
      },
      "id": "aWN6qkge0hLb",
      "execution_count": null,
      "outputs": []
    },
    {
      "cell_type": "code",
      "source": [
        "classical_solution(f)"
      ],
      "metadata": {
        "id": "QTSwpQCXbjsG"
      },
      "id": "QTSwpQCXbjsG",
      "execution_count": null,
      "outputs": []
    },
    {
      "cell_type": "markdown",
      "source": [
        "<a name=\"p3\"></a>\n",
        "\n",
        "---\n",
        "### **Step #3: The Quantum Solution**\n",
        "---\n",
        "\n",
        "The quantum solution to this problem uses a quantum computer to query the function $f(x)$ only once. It works by exploiting the interference of quantum states. Here is a brief overview of how the algorithm works.\n",
        "\n",
        "**Step 1:** Initialization\n",
        "\n",
        "$$\n",
        "\\begin{align}\n",
        "|\\psi_1\\rangle &= |0\\rangle \\otimes |1\\rangle \\\\\n",
        "\\end{align}\n",
        "$$\n",
        "\n",
        "**Step 2:** Apply the Hadamard gates to put the system into superposition\n",
        "$$\n",
        "\\begin{align}\n",
        "|\\psi_2\\rangle &= \\frac{(|0\\rangle - |1\\rangle)}{\\sqrt 2} \\otimes \\frac{(|0\\rangle + |1\\rangle)}{2} \\\\\n",
        "&= \\frac{|00\\rangle-|01\\rangle+|10\\rangle - |11\\rangle}{2}\n",
        "\\end{align}\n",
        "$$\n",
        "**Step 3:** Applying the oracle\n",
        "\n",
        "We now want to implement the unknown boolean function $f(x)$. On a quantum computer we call this an \"oracle\". An oracle is a *unitary transformation* (a gate that can be applied in a quantum circuit, or, a \"unitary\" gate). The oracle takes the two qubits as input and applies the function $f(x)$. Let's look at the table again:\n",
        "\n",
        "| f(0) \t| f(1)\t| Constant or balanced?    |\n",
        "|:---:\t|:---:\t|:---------------------:   |\n",
        "|  0  \t|  0  \t|       (Constant) 0                 |\n",
        "|  0  \t|  1  \t|       (Balanced) 1                 |\n",
        "|  1  \t|  0  \t|       (Balanced) 1                 |\n",
        "|  1  \t|  1  \t|      (Constant)  0                 |\n",
        "\n",
        "This is the classical XOR gate - that can be represented by the $\\oplus$ symbol. \n",
        "\n",
        "Given $f(0)$ and $f(1)$, we want to calculate $f(0) \\oplus f(1)$.  If $f(0) \\oplus f(1)$ is 0 we know that the function is constant, and if $f(0) \\oplus f(1)$ is 1 it is balanced.\n",
        "\n",
        "The quantum approach differs from the classical one in that it requires the number of qubits at the input to match the number of qubits at the output. This limitation arises because quantum circuits are designed using qubits and circuits, and it is not possible to have two qubit wires as inputs and only one qubit wire as output in a quantum circuit. So what shall we do? \n",
        "\n",
        "It is possible to design the circuit in a way that one of the wires carries the output, while the other wire is disregarded or unused. By doing so, we can effectively ensure that the output of the circuit is obtained from the designated wire, while ignoring the other wire.\n",
        "\n",
        "Here is what the circuit looks like: \n",
        "\n",
        "![Oracle](https://drive.google.com/uc?export=view&id=1BFX0Toz6g44_qwWARdKhRt7mk48gCRIz)\n",
        "\n",
        "\n",
        "We can see from the figure that applying $O$ on two qubits, results in the first qubit staying the same $f(x)$, and the second qubit obtains the value $y \\oplus f(x)$. \n",
        "\n",
        "Therefore, suppose our two qubit state is $|00\\rangle$, the qubit state after applying $O$ will be $|0\\rangle|0 \\oplus f(0) \\rangle$. \n",
        "\n",
        "$$\n",
        "|\\psi_3\\rangle = \\frac{|0\\rangle|0 \\oplus f(0)\\rangle-|0\\rangle|1 \\oplus f(0)\\rangle+|1\\rangle|0 \\oplus f(1)\\rangle - |1\\rangle|1 \\oplus f(1)\\rangle}{2}\n",
        "$$\n",
        "\n",
        "Here two things are possible: the function can be *constant* or *balanced*. Let's look at the case where the function is *constant*:\n",
        "\n",
        "In the *constant* case $f(0) = f(1)$. Now we look at what happens when we want to compute $|0 \\oplus f(0)\\rangle$ and $|1 \\oplus f(0)\\rangle$. $f(0)$ can take two values 0 or 1. If $f(0) = 0$, then,\n",
        "\n",
        "$$\\begin{align}\n",
        "|0 \\oplus f(0)\\rangle &= |0 \\oplus 0\\rangle \\\\\n",
        "&= |0\\rangle \\\\\n",
        "&= |f(0)\\rangle\n",
        "\\end{align}\n",
        "$$\n",
        "\n",
        "and\n",
        "\n",
        "$$\\begin{align}\n",
        "|1 \\oplus f(0)\\rangle &= |1 \\oplus 0\\rangle \\\\\n",
        "&= |1\\rangle \\\\\n",
        "&= |\\overline{f(0)}\\rangle\n",
        "\\end{align}\n",
        "$$\n",
        "\n",
        "Here, $|\\overline{f(0)}\\rangle$, represents a value that is NOT $f(0)$ (i.e., the complement). If $f(0) = 0$, then $\\overline{f(0)} = 1$.Let's look at $|\\psi_3\\rangle$ again:\n",
        "$$\n",
        "|\\psi_3\\rangle = \\frac{|0\\rangle|f(0)\\rangle-|0\\rangle|\\overline{f(0)}\\rangle+|1\\rangle|f(1)\\rangle - |1\\rangle|\\overline{f(1)}\\rangle}{2}\n",
        "$$\n",
        "\n",
        "We also know that $f(0) = f(1)$, therefore, \n",
        "\n",
        "$$\n",
        "\\begin{align}\n",
        "|\\psi_3\\rangle &= \\frac{|0\\rangle|f(0)\\rangle-|0\\rangle|\\overline{f(0)}\\rangle+|1\\rangle|f(0)\\rangle - |1\\rangle|\\overline{f(0)}\\rangle}{2} \\\\\n",
        "&= \\frac{|0\\rangle + |1 \\rangle}{\\sqrt 2} \\otimes \\frac{f(0) -\\overline{f(0)}}{\\sqrt 2}\n",
        "\\end{align}\n",
        "$$\n",
        "\n",
        "**Step 4:** Uncompute by taking the qubits out of superposition.\n",
        "\n",
        "Many quantum circuits with oracles follow the following pattern:\n",
        "\n",
        "Compute - Oracle - Uncompute\n",
        "\n",
        "Here, \"compute\" refers to performing a series of quantum operations on the qubits to manipulate and process information. This can involve applying gates to usually create superposition and entanglement.On the other hand, uncomputing is the reverse process of computing. It involves applying the inverse operations to undo the computational steps and restore the qubits to their original state. Uncomputing is used to eliminate any unwanted entanglement or undo a superposition. In this case, the \"compute\" part, was putting the qubits in superposition, so we need to uncompute by putting the qubits out of superposition."
      ],
      "metadata": {
        "id": "O89CR75AlT6I"
      },
      "id": "O89CR75AlT6I"
    },
    {
      "cell_type": "markdown",
      "id": "d826f931",
      "metadata": {
        "id": "d826f931"
      },
      "source": [
        "#### **Problem #4:** Initialize the circuit as specified in Step 1."
      ]
    },
    {
      "cell_type": "code",
      "execution_count": null,
      "id": "57634f56",
      "metadata": {
        "id": "57634f56"
      },
      "outputs": [],
      "source": [
        "from qiskit import QuantumCircuit, Aer, execute\n",
        "\n",
        "# Create a quantum circuit with two qubits and one classical bit\n",
        "\n",
        "# Apply the gates for the initialization above\n",
        "\n",
        "qc.barrier()\n",
        "qc.draw()"
      ]
    },
    {
      "cell_type": "markdown",
      "id": "a3a55722",
      "metadata": {
        "id": "a3a55722"
      },
      "source": [
        "#### **Problem #5:** Put the qubits in an equal superpostion\n",
        "\n",
        "The algorithm then applies a Hadamard gate to each qubit, which puts them in a state of equal superposition:\n",
        "\n"
      ]
    },
    {
      "cell_type": "code",
      "execution_count": null,
      "id": "38c0c31e",
      "metadata": {
        "id": "38c0c31e"
      },
      "outputs": [],
      "source": [
        "# Apply a Hadamard gate to each qubit\n",
        "\n",
        "# Draw the circuit\n"
      ]
    },
    {
      "cell_type": "markdown",
      "id": "829a3b26",
      "metadata": {
        "id": "829a3b26"
      },
      "source": [
        "In the balanced case, we want $f(0) \\neq f(1)$, for example, $f(0) = 0$ and $f(1) = 1$.\n",
        "\n",
        "Now our table looks as follows:\n",
        "\n",
        "| $$|f(x)\\rangle$$ \t| $$|y\\rangle$$| $$|f(x)\\rangle|y \\oplus f(x)\\rangle$$   |\n",
        "|:---:\t|:---:\t|:---------------------:   |\n",
        "|  0  \t|  0  \t|        00                 |\n",
        "|  0  \t|  1  \t|        01                 |\n",
        "|  1  \t|  0  \t|        11                 |\n",
        "|  1  \t|  1  \t|        10                 |\n",
        "\n",
        "Note 1: The third column shows the output of both the qubits.\n",
        "\n",
        "Note2: $\\otimes$ (tensor product) and $\\oplus$ (XOR) are different symbols"
      ]
    },
    {
      "cell_type": "markdown",
      "source": [
        "#### **Problem #6:** Uncompute by applying the Hadamard gate on the first qubit.\n",
        "\n",
        "$$\n",
        "|\\psi_4\\rangle = ?\n",
        "$$\n"
      ],
      "metadata": {
        "id": "m0X4-gVUM0fT"
      },
      "id": "m0X4-gVUM0fT"
    },
    {
      "cell_type": "code",
      "source": [],
      "metadata": {
        "id": "6Ot2RSGKNAB0"
      },
      "id": "6Ot2RSGKNAB0",
      "execution_count": null,
      "outputs": []
    },
    {
      "cell_type": "markdown",
      "source": [
        "\n",
        "#### **Problem #7:** What result do we expect on measurement? Provide your prediction below. You may also code your response to check if your prediction is correct."
      ],
      "metadata": {
        "id": "ytqrlG_kM_FH"
      },
      "id": "ytqrlG_kM_FH"
    },
    {
      "cell_type": "markdown",
      "source": [],
      "metadata": {
        "id": "S-drSW_JNG9_"
      },
      "id": "S-drSW_JNG9_"
    },
    {
      "cell_type": "markdown",
      "source": [
        "\n",
        "#### **Problem #8** Calculate what happens in the balanced case. What result do we expect on measurement of the first qubit in this case? Provide your answer below."
      ],
      "metadata": {
        "id": "HGMeCBO0NLAM"
      },
      "id": "HGMeCBO0NLAM"
    },
    {
      "cell_type": "markdown",
      "source": [],
      "metadata": {
        "id": "Uljxb06nNQtw"
      },
      "id": "Uljxb06nNQtw"
    },
    {
      "cell_type": "markdown",
      "id": "74d99860",
      "metadata": {
        "id": "74d99860"
      },
      "source": [
        "#### **Problem #9:**\n",
        "The CNOT gate is an example of a balanced oracle. \n",
        "\n",
        "Execute the quantum gate responsible for performing the balanced oracle operation on the previously defined quantum circuit (```qc```)."
      ]
    },
    {
      "cell_type": "code",
      "execution_count": null,
      "id": "46752798",
      "metadata": {
        "id": "46752798"
      },
      "outputs": [],
      "source": [
        "\n",
        "qc.barrier()\n",
        "qc.draw()"
      ]
    },
    {
      "cell_type": "markdown",
      "id": "8d42a556",
      "metadata": {
        "id": "8d42a556"
      },
      "source": [
        "#### **Problem #10:**\n",
        "Apply the gate that performs the \"uncomputation\" to the previously defined quantum circuit (```qc```)"
      ]
    },
    {
      "cell_type": "code",
      "execution_count": null,
      "id": "5a93e028",
      "metadata": {
        "id": "5a93e028"
      },
      "outputs": [],
      "source": [
        "# Apply a Hadamard gate to each qubit\n",
        "\n",
        "# Draw the circuit\n"
      ]
    },
    {
      "cell_type": "code",
      "execution_count": null,
      "id": "cf26051d",
      "metadata": {
        "id": "cf26051d"
      },
      "outputs": [],
      "source": [
        "qc.measure()\n",
        "qc.draw(output='mpl') "
      ]
    },
    {
      "cell_type": "markdown",
      "id": "170210d7",
      "metadata": {
        "id": "170210d7"
      },
      "source": [
        "#### **Plot the results**\n",
        "\n",
        "We should be expecting 1 with 100% probability for the balanced case and 0 with 100% probability for the contant case. \n",
        "\n"
      ]
    },
    {
      "cell_type": "code",
      "execution_count": null,
      "id": "6ca329f0",
      "metadata": {
        "id": "6ca329f0"
      },
      "outputs": [],
      "source": [
        "results = execute(qc, backend=backend, shots=shots).result()\n",
        "answer = results.get_counts()\n",
        "\n",
        "plot_histogram(answer)\n"
      ]
    },
    {
      "cell_type": "markdown",
      "id": "2af36939",
      "metadata": {
        "id": "2af36939"
      },
      "source": []
    },
    {
      "cell_type": "markdown",
      "id": "17eb4743",
      "metadata": {
        "id": "17eb4743"
      },
      "source": [
        "#### **Problem #11:**\n",
        "Lets rememeber a ...\n",
        "\n",
        "**Constant Oracle:**\n",
        "Is a quantum function that returns the same output for all possible inputs. In other words, regardless of the input, the function always produces a fixed result. This fixed result could be either 0 or 1.\n",
        "\n",
        "**Balanced Oracle:**\n",
        "Is a quantum function that returns different outputs for different inputs. In the case of a 2-qubit balanced oracle, it divides the input space into two equal-sized sets, with half of the inputs mapping to 0 and the other half mapping to 1.\n",
        "\n",
        "Is the following function constant or balanced? \n",
        "\n",
        "Hint: Prepare a circuit similar to the previous circuit but use the following oracle instead of the CNOT gate. "
      ]
    },
    {
      "cell_type": "code",
      "source": [
        "# Your code here\n",
        "def oracle(qc):\n",
        "  \n",
        "    return qc  "
      ],
      "metadata": {
        "id": "gNscszKneCJH"
      },
      "id": "gNscszKneCJH",
      "execution_count": null,
      "outputs": []
    },
    {
      "cell_type": "markdown",
      "id": "d3906950",
      "metadata": {
        "id": "d3906950"
      },
      "source": [
        "#### **Problem #12:** What is the difference between the Deutsch and the Deutsch-Josza algorithm? Implement the DJ algorithm in qiskit."
      ]
    },
    {
      "cell_type": "markdown",
      "source": [
        "## **Part #3: Practice with Kets**\n",
        "---"
      ],
      "metadata": {
        "id": "lE8zhs_8oe1m"
      },
      "id": "lE8zhs_8oe1m"
    },
    {
      "cell_type": "markdown",
      "source": [
        "#### **Problem #3.1**\n",
        "\n",
        "Alice and Bob are performing a quantum teleportation experiment. Alice has a qubit in the state  $ | \\psi \\rangle$ = α$ | 0 \\rangle$ + β$ | 1 \\rangle$, where α = $\\frac{1}{√2}$ and β =  $\\frac{1}{√2}$. The entangled pair shared between Alice and Bob is given by $\\frac {| \\phi+\\rangle = (| 00 \\rangle +| 11 \\rangle)}{√2}$. Fill the blanks below. Feel free to use code provided above to help solve.\n",
        "\n",
        "<br>\n",
        "\n",
        "**First**\n",
        "\n",
        "Apply a **FILL IN HERE** gate to the **FILL IN HERE** pair, with Alice's qubit as the **FILL IN HERE** qubit and Bob's qubit as the **FILL IN HERE** qubit.\n",
        "\n",
        "Resulting Ket:  $ | \\psi_1 \\rangle$ = \n",
        "\n",
        "**Next**\n",
        "\n",
        "Apply a **FILL IN HERE** gate to Alice's qubit and the **FILL IN HERE**.\n",
        "\n",
        "Result:  $ | \\psi_2 \\rangle$ = \n",
        "\n",
        "Perform a measurement on **FILL IN HERE** qubit and the **FILL IN HERE** qubit.\n",
        "\n",
        "Result: The four possible measurement outcomes are **FILL IN HERE**\n",
        "\n",
        "**Lastly**\n",
        "\n",
        "Based on the measurement outcome, Bob applies the appropriate correction gate:\n",
        "\n",
        "If the measurement outcome is **FILL IN HERE** , no correction is needed.\n",
        "\n",
        "If the measurement outcome is **FILL IN HERE** , Bob applies the X gate.\n",
        "\n",
        "If the measurement outcome is  $ | 10 \\rangle$, Bob applies the **FILL IN HERE** gate.\n",
        "\n",
        "If the measurement outcome is **FILL IN HERE** , Bob applies both the **FILL IN HERE** and **FILL IN HERE** gates.\n",
        "\n",
        "**The state of Bob's qubit is now the same as the original state of Alice's qubit**"
      ],
      "metadata": {
        "id": "00-dWsePA2ht"
      },
      "id": "00-dWsePA2ht"
    },
    {
      "cell_type": "markdown",
      "source": [],
      "metadata": {
        "id": "maqkfhjnVjT-"
      },
      "id": "maqkfhjnVjT-"
    },
    {
      "cell_type": "markdown",
      "source": [
        "#### **Problem #3.2**\n",
        "\n",
        "Alice wants to teleport the state of her qubit  $ | \\phi \\rangle$ = $\\frac{3}{5}$|0⟩ - $\\frac{4}{5}$|1⟩ to Bob using the entangled pair  $ | \\phi -\\rangle$ = $\\frac{(|00⟩ - |11⟩)}{√2}$. Perform the necessary operations to achieve this teleportation. Fill the blanks below. Feel free to use code provided above to help solve."
      ],
      "metadata": {
        "id": "UDlnENxfA9To"
      },
      "id": "UDlnENxfA9To"
    },
    {
      "cell_type": "markdown",
      "source": [
        "**First**\n",
        "\n",
        "Apply a **FILL IN HERE** gate to the **FILL IN HERE** pair, with Alice's qubit as the **FILL IN HERE** qubit and Bob's qubit as the **FILL IN HERE** qubit.\n",
        "\n",
        "Resulting Ket:  $ | \\psi_1 \\rangle$ = **FILL IN HERE**\n",
        "\n",
        "**Next**\n",
        "\n",
        "Apply a **FILL IN HERE** gate to Alice's qubit and the **FILL IN HERE**.\n",
        "\n",
        "Result:  $ | \\psi_2 \\rangle$ = **FILL IN HERE**\n",
        "\n",
        "Perform a measurement on **FILL IN HERE** qubit and the **FILL IN HERE** qubit.\n",
        "\n",
        "Result: The four possible measurement outcomes are **FILL IN HERE** \n",
        "\n",
        "**Lastly**\n",
        "\n",
        "Based on the measurement outcome, Bob applies the appropriate correction gate:\n",
        "\n",
        "If the measurement outcome is **FILL IN HERE**, no correction is needed.\n",
        "\n",
        "If the measurement outcome is |01> , Bob applies the **FILL IN HERE** gate.\n",
        "\n",
        "If the measurement outcome is **FILL IN HERE**, Bob applies the **FILL IN HERE** gate.\n",
        "\n",
        "If the measurement outcome is **FILL IN HERE**, Bob applies both the X and **FILL IN HERE** gates.\n",
        "\n",
        "**The state of Bob's qubit is now the same as the original state of Alice's qubit**"
      ],
      "metadata": {
        "id": "LvWzFGqbWloV"
      },
      "id": "LvWzFGqbWloV"
    },
    {
      "cell_type": "markdown",
      "source": [
        "#### **Problem #3.3**\n",
        "\n",
        "Consider a function f(x) that takes a single bit x as input and returns either 0 or 1. You are given an oracle that implements a function f(x) and are tasked with determining whether the function is constant (i.e., always returns the same value) or balanced (i.e., returns 0 for exactly half of the inputs and 1 for the other half). How can you use the Deutsch algorithm to solve this problem?\n",
        "\n",
        "<br>\n",
        "\n",
        "**First**\n",
        "\n",
        "Start with two qubits initialized in the **FILL IN HERE** state. Denote these qubits as |x⟩ and |y⟩.\n",
        "\n",
        "Apply the **FILL IN HERE** gate to the |x⟩ qubit, putting it into a superposition of |0⟩ and |1⟩: **FILL IN HERE**\n",
        "\n",
        "Apply a **FILL IN HERE** to the |y⟩ qubit as well, putting it into the **FILL IN HERE** state.\n",
        "\n",
        "**Next**\n",
        "\n",
        "Apply the oracle function f(x) to the qubits. The function f(x) maps the input |x⟩ ⊗ |y⟩ to |x⟩ ⊗ |y ⊕ f(x)⟩, where ⊕ represents the bitwise XOR operation.\n",
        "\n",
        "Apply a Hadamard gate  **FILL IN HERE** to the |x⟩ qubit.\n",
        "\n",
        "**Finally**\n",
        "\n",
        "Measure the **FILL IN HERE** qubit. If the measurement outcome is **FILL IN HERE**, the oracle function is constant. If the measurement outcome is 1, the oracle function is **FILL IN HERE**."
      ],
      "metadata": {
        "id": "pftG1gIMBnfY"
      },
      "id": "pftG1gIMBnfY"
    },
    {
      "cell_type": "markdown",
      "source": [
        "#### **Problem #3.4**\n",
        "Normalize the following ket: |ψ⟩ = 6|0⟩ + 8|1⟩"
      ],
      "metadata": {
        "id": "U_oqFSa8YTUC"
      },
      "id": "U_oqFSa8YTUC"
    },
    {
      "cell_type": "markdown",
      "source": [],
      "metadata": {
        "id": "EuCN_GHsncHe"
      },
      "id": "EuCN_GHsncHe"
    },
    {
      "cell_type": "markdown",
      "source": [
        "#### **Problem #3.5**"
      ],
      "metadata": {
        "id": "RfliivBAtPaj"
      },
      "id": "RfliivBAtPaj"
    },
    {
      "cell_type": "markdown",
      "source": [
        "We say a state of the form a|0>+b|1> is normalized if a^2+b^2=1. Does changing the basis of a ket representation from the Z basis to the X basis change the normalization of a state?"
      ],
      "metadata": {
        "id": "4_vqFT8-tK6t"
      },
      "id": "4_vqFT8-tK6t"
    },
    {
      "cell_type": "markdown",
      "source": [
        "### **Open Ended Exercises**\n",
        "\n",
        "To hone your understanding further, \n",
        "* Run the protocol after changing one of the gates to see what effect it has on the results. \n",
        "* Run the protocol after changing multiple gates at the same time.\n",
        "* Add code at the end to calculate how close the final measured state and the intended state are from each other. *This is very challenging!*"
      ],
      "metadata": {
        "id": "3hJof0InBbLZ"
      },
      "id": "3hJof0InBbLZ"
    },
    {
      "cell_type": "markdown",
      "source": [
        "#End of notebook\n",
        "---\n",
        "© 2023 The Coding School, All rights reserved"
      ],
      "metadata": {
        "id": "Fctzj2QB4qgX"
      },
      "id": "Fctzj2QB4qgX"
    }
  ],
  "metadata": {
    "kernelspec": {
      "display_name": "Python 3 (ipykernel)",
      "language": "python",
      "name": "python3"
    },
    "language_info": {
      "codemirror_mode": {
        "name": "ipython",
        "version": 3
      },
      "file_extension": ".py",
      "mimetype": "text/x-python",
      "name": "python",
      "nbconvert_exporter": "python",
      "pygments_lexer": "ipython3",
      "version": "3.10.8"
    },
    "colab": {
      "provenance": [],
      "toc_visible": true
    }
  },
  "nbformat": 4,
  "nbformat_minor": 5
}